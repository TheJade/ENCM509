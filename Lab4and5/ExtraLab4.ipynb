{
 "cells": [
  {
   "cell_type": "code",
   "execution_count": null,
   "id": "b5180a2b",
   "metadata": {},
   "outputs": [],
   "source": [
    "# Parameters \n",
    "block_size = 16\n",
    "threshold = 0.2\n",
    "\n",
    "input_img = r_good\n",
    "\n",
    "# Normalize\n",
    "normalized_img = normalize(input_img, float(100), float(100))\n",
    "# Segement \n",
    "(segmented_img, normim, mask) = segmentation(normalized_img, block_size, threshold)\n",
    "\n",
    "angles1 = calculate_angles(normalized_img, W=block_size, smooth=True) \n",
    "freq1 = ridge_freq(normim, mask, angles, block_size, kernel_size=5, minWaveLength=5, maxWaveLength=15)\n",
    "\n",
    "angles2 = angles1*2\n",
    "freq2 = freq1*2\n",
    "\n",
    "#print(np.array_equal(angles1,angles2))\n",
    "#print(np.array_equal(freq1,freq2))"
   ]
  },
  {
   "cell_type": "code",
   "execution_count": null,
   "id": "1d7a77a3",
   "metadata": {},
   "outputs": [],
   "source": [
    "gabor_img1 = gabor_filter(normim, angles1, freq1, block_size2=block_size, kx=0.65, ky=0.65)\n",
    "gabor_img2 = gabor_filter(normim, angles2, freq1, block_size2=block_size, kx=0.65, ky=0.65)\n",
    "gabor_img3 = gabor_filter(normim, angles1, freq2, block_size2=block_size, kx=0.65, ky=0.65)\n",
    "gabor_img4 = gabor_filter(normim, angles2, freq2, block_size2=block_size, kx=0.65, ky=0.65)\n",
    "\n",
    "plt.figure(figsize=(8,8))\n",
    "plt.subplot(2,2,1)\n",
    "plt.imshow(gabor_img1, cmap='gray')\n",
    "plt.title('Angle1   Freq1');\n",
    "plt.subplot(2,2,2)\n",
    "plt.imshow(gabor_img2, cmap='gray')\n",
    "plt.title(\"Angle2   Freq1\")\n",
    "plt.subplot(2,2,3)\n",
    "plt.imshow(gabor_img3, cmap='gray')\n",
    "plt.title(\"Angle1   Freq2\")\n",
    "plt.subplot(2,2,4)\n",
    "plt.imshow(gabor_img4, cmap='gray')\n",
    "plt.title(\"Angle2   Freq2\")"
   ]
  },
  {
   "cell_type": "markdown",
   "id": "3f03b3dc",
   "metadata": {},
   "source": [
    "For angle1 and freq1 we followed the same procedure as the lab manual. For our 2nd set of parameters we multiplied the elements in the angle and frequency arrays by 2. \n",
    "The above images show that multiplying the frequency by a factor of 2 resulted in less clean lines. There are more lines that are thinner with hairs in between. Multiplying the angle array by a factor of 2 changed the fingerprint pattern. The tops and sides of the fingerprint are rotated downwards. "
   ]
  },
  {
   "cell_type": "markdown",
   "id": "c2fc67e0",
   "metadata": {},
   "source": []
  }
 ],
 "metadata": {
  "kernelspec": {
   "display_name": "Python 3 (ipykernel)",
   "language": "python",
   "name": "python3"
  },
  "language_info": {
   "codemirror_mode": {
    "name": "ipython",
    "version": 3
   },
   "file_extension": ".py",
   "mimetype": "text/x-python",
   "name": "python",
   "nbconvert_exporter": "python",
   "pygments_lexer": "ipython3",
   "version": "3.9.7"
  }
 },
 "nbformat": 4,
 "nbformat_minor": 5
}

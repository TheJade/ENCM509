{
 "cells": [
  {
   "cell_type": "code",
   "execution_count": 1,
   "metadata": {},
   "outputs": [],
   "source": [
    "#pip install python_speech_features==0.4"
   ]
  },
  {
   "cell_type": "code",
   "execution_count": 2,
   "metadata": {},
   "outputs": [],
   "source": [
    "# Packages \n",
    "import os\n",
    "import re\n",
    "import random\n",
    "import numpy as np\n",
    "from python_speech_features import mfcc\n",
    "from sklearn.mixture import GaussianMixture\n",
    "from scipy.io import wavfile\n",
    "import matplotlib.pyplot as plt\n",
    "from scipy.stats import norm"
   ]
  },
  {
   "cell_type": "code",
   "execution_count": 3,
   "metadata": {},
   "outputs": [
    {
     "name": "stdout",
     "output_type": "stream",
     "text": [
      "Training on nicolas\n",
      "['george', 'jackson', 'lucas', 'nicolas', 'theo', 'yweweler']\n"
     ]
    }
   ],
   "source": [
    "# train the GMM on the concatenated MFCC features\n",
    "random.seed(0)\n",
    "\n",
    "person_num = 3  # Index number of person to train on \n",
    "test_samples = 10  # Number of samples to test\n",
    "\n",
    "paths = os.listdir('../data/recordings/')  # Filename of every recording \n",
    "random.shuffle(paths) # Shuffle data so test and train contain multiple different words  \n",
    "\n",
    "# extracts all the people names in the dataset\n",
    "people = list(set([\" \".join(re.findall(\"[a-zA-Z]+\", \"\".join(x.split('.')[0:-1]))) for x in paths]))\n",
    "people.sort()\n",
    "\n",
    "# add relative path\n",
    "paths = ['../data/recordings/'+ x for x in paths]\n",
    "\n",
    "print(f'Training on {people[person_num]}')\n",
    "print(people)"
   ]
  },
  {
   "cell_type": "code",
   "execution_count": 4,
   "metadata": {},
   "outputs": [
    {
     "name": "stdout",
     "output_type": "stream",
     "text": [
      "490\n",
      "10\n"
     ]
    }
   ],
   "source": [
    "# Testing with alternative larger and more interesting dataset\n",
    "\n",
    "# directory containing the training data files\n",
    "one_person_paths = [x for x in paths if people[person_num] in x]\n",
    "train_paths = one_person_paths[0:-test_samples]  # Keep the first 490 samples for training\n",
    "test_paths = one_person_paths[-test_samples:]  # Keep the last 10 samples for testing \n",
    "\n",
    "print(len(train_paths))\n",
    "print(len(test_paths))\n",
    "#print(test_paths)"
   ]
  },
  {
   "cell_type": "code",
   "execution_count": 5,
   "metadata": {},
   "outputs": [],
   "source": [
    "# create a GMM with n components\n",
    "n = 20\n",
    "gmm = GaussianMixture(n_components=n)\n",
    "\n",
    "# loop over each audio file in the data directory to extract features\n",
    "mfcc_features = None  # Create empty dataframe\n",
    "for file_path in train_paths:\n",
    "    sample_rate, audio_data = wavfile.read(file_path)  # extract data and sample rate for each file\n",
    "    \n",
    "    # compute MFCC features for the audio data\n",
    "    mfcc_data = mfcc(audio_data, sample_rate)\n",
    "    \n",
    "    # concatenate the MFCC features into a single numpy array\n",
    "    if mfcc_features is None:\n",
    "        mfcc_features = mfcc_data\n",
    "    else:\n",
    "        mfcc_features = np.concatenate((mfcc_features, mfcc_data), axis=0)"
   ]
  },
  {
   "cell_type": "code",
   "execution_count": 6,
   "metadata": {},
   "outputs": [
    {
     "name": "stdout",
     "output_type": "stream",
     "text": [
      "[ 18.28724711   0.10534504 -20.11034637 -46.68443102  -5.85794963\n",
      "   3.57784646  -6.55325388 -15.80200711 -14.58062069  -3.6266417\n",
      "  -8.03280999 -12.3525111    4.68319853]\n"
     ]
    }
   ],
   "source": [
    "print(mfcc_features[0])"
   ]
  },
  {
   "cell_type": "code",
   "execution_count": 7,
   "metadata": {},
   "outputs": [
    {
     "data": {
      "text/plain": [
       "GaussianMixture(n_components=20)"
      ]
     },
     "execution_count": 7,
     "metadata": {},
     "output_type": "execute_result"
    }
   ],
   "source": [
    "# train the GMM on the concatenated MFCC features\n",
    "gmm.fit(mfcc_features)"
   ]
  },
  {
   "cell_type": "code",
   "execution_count": 8,
   "metadata": {},
   "outputs": [
    {
     "name": "stdout",
     "output_type": "stream",
     "text": [
      "50\n"
     ]
    }
   ],
   "source": [
    "# Calculate scores for Imposter recordings\n",
    "\n",
    "imposter_scores = []\n",
    "\n",
    "for person in people:\n",
    "    if person != people[person_num]:  # If person was not trained on get a random sample of 10 recordings for testing  \n",
    "        person_paths = random.sample([x for x in paths if person in x], test_samples)\n",
    "    else: \n",
    "        continue\n",
    "        \n",
    "    individual_scores = [] \n",
    "    for path in person_paths:\n",
    "        sample_rate, test_data = wavfile.read(path)  # Extract data\n",
    "        mfcc_data = mfcc(test_data, sample_rate, numcep=13)  # Feature extraction\n",
    "        score = gmm.score(mfcc_data) # Calulate score\n",
    "        individual_scores.append(score)   # Get classification score for each recording\n",
    "    \n",
    "    imposter_scores.extend(individual_scores) \n",
    "\n",
    "print(len(imposter_scores))"
   ]
  },
  {
   "cell_type": "code",
   "execution_count": 9,
   "metadata": {},
   "outputs": [
    {
     "name": "stdout",
     "output_type": "stream",
     "text": [
      "10\n"
     ]
    }
   ],
   "source": [
    "# Calculate scores for genuine recordings \n",
    "\n",
    "genuine_scores = []\n",
    "\n",
    "for path in test_paths:\n",
    "    sample_rate, test_data = wavfile.read(path)  # Extract data\n",
    "    mfcc_data = mfcc(test_data, sample_rate, numcep=13)  # Feature extraction\n",
    "    score = gmm.score(mfcc_data) # Calulate score\n",
    "    genuine_scores.append(score)   # Get classification score for each recording\n",
    "    \n",
    "print(len(genuine_scores))"
   ]
  },
  {
   "cell_type": "code",
   "execution_count": 10,
   "metadata": {},
   "outputs": [
    {
     "data": {
      "image/png": "[encoded data removed]",
      "text/plain": [
       "<Figure size 720x360 with 1 Axes>"
      ]
     },
     "metadata": {
      "needs_background": "light"
     },
     "output_type": "display_data"
    }
   ],
   "source": [
    "# Plot genuine and imposter distributions to determine a threshold\n",
    "\n",
    "person_scores = list(genuine_scores)\n",
    "person_scores.extend(imposter_scores) \n",
    "\n",
    "lowest_value = min(person_scores)\n",
    "highest_value = max(person_scores)\n",
    "\n",
    "x = np.arange(lowest_value-50, highest_value+50, 0.01)\n",
    "\n",
    "genuine = norm.pdf(x, loc=np.mean(genuine_scores), scale=np.std(genuine_scores))\n",
    "imposter = norm.pdf(x, loc=np.mean(imposter_scores), scale=np.std(imposter_scores))\n",
    "\n",
    "threshold = -50\n",
    "\n",
    "plt.figure(figsize=(10,5))\n",
    "plt.plot(x, genuine, 'g')\n",
    "plt.plot(genuine_scores, np.zeros(len(genuine_scores)), 'gs', lw=2, label='In Dataset')\n",
    "plt.plot(x, imposter, 'r')\n",
    "plt.plot(imposter_scores, np.zeros(len(imposter_scores)), 'r^', lw=2, label='Not In Dataset')\n",
    "plt.plot([threshold]*20, np.linspace(0, 0.3, 20), 'b', label='Threshold')\n",
    "plt.xlabel(\"GMM Scores\")\n",
    "plt.ylabel(\"Probability Distribution Function\")\n",
    "plt.legend();\n",
    "plt.title('Distributions of Imposter and Genuine Recordings');\n",
    "\n",
    "plt.show()"
   ]
  },
  {
   "cell_type": "code",
   "execution_count": 11,
   "metadata": {},
   "outputs": [
    {
     "name": "stdout",
     "output_type": "stream",
     "text": [
      "True Rejection Rate :100.0\n",
      "False Accecptance Rate :0.0\n",
      "False Rejection Rate :0.0\n",
      "True Accecptance Rate :100.0\n"
     ]
    },
    {
     "data": {
      "image/png": "[encoded data removed]",
      "text/plain": [
       "<Figure size 432x288 with 2 Axes>"
      ]
     },
     "metadata": {
      "needs_background": "light"
     },
     "output_type": "display_data"
    }
   ],
   "source": [
    "# Choose threshold and make confusion matrix \n",
    "\n",
    "from sklearn.metrics import confusion_matrix, ConfusionMatrixDisplay\n",
    "\n",
    "TA = 0\n",
    "FA = 0\n",
    "TR = 0\n",
    "FR = 0\n",
    "\n",
    "for score in genuine_scores:\n",
    "    if score < threshold:\n",
    "        FR = FR + 1\n",
    "    else:\n",
    "        TA = TA + 1\n",
    "\n",
    "for score in imposter_scores:\n",
    "    if score < threshold: \n",
    "        TR = TR + 1\n",
    "    else:\n",
    "        FA = FA + 1\n",
    "        \n",
    "Total = len(genuine_scores) + len(imposter_scores)\n",
    "\n",
    "print(\"True Rejection Rate :\" + str((TR/(TR+FA))*100))\n",
    "print(\"False Accecptance Rate :\" + str((FA/(FA+TR))*100))\n",
    "print(\"False Rejection Rate :\" + str((FR/(FR+TA))*100))\n",
    "print(\"True Accecptance Rate :\" + str((TA/(TA+FR))*100))\n",
    "\n",
    "cm = np.array([[TR, FA], [FR, TA]])\n",
    "labels = np.array([\"Not In Dataset\", \"In Dataset\"])\n",
    "disp = ConfusionMatrixDisplay(confusion_matrix=cm, display_labels=labels)\n",
    "disp.plot()\n",
    "plt.title('Confusion Matrix');\n",
    "plt.show()"
   ]
  }
 ],
 "metadata": {
  "kernelspec": {
   "display_name": "Python 3 (ipykernel)",
   "language": "python",
   "name": "python3"
  },
  "language_info": {
   "codemirror_mode": {
    "name": "ipython",
    "version": 3
   },
   "file_extension": ".py",
   "mimetype": "text/x-python",
   "name": "python",
   "nbconvert_exporter": "python",
   "pygments_lexer": "ipython3",
   "version": "3.9.7"
  },
  "vscode": {
   "interpreter": {
    "hash": "016defd429ab99bf3f0317efb8c8e4a11f71f53a0b4fb21f1d5c683665d855a7"
   }
  }
 },
 "nbformat": 4,
 "nbformat_minor": 2
}

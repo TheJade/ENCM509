{
 "cells": [
  {
   "cell_type": "markdown",
   "metadata": {},
   "source": [
    "# Damn Jessica I just got chatGPT to write this code OMG ! \n",
    "\n",
    "I did make a little edit tho"
   ]
  },
  {
   "cell_type": "markdown",
   "metadata": {},
   "source": [
    "Prompt 1: \"Hey, can you please write me some simple code to preform speaker recognition uisng the python function GaussianMixture and a GMM\"\n",
    "\n",
    "Prompt 2: \"can you please rewrite this to use the wavfile.read funciton to read in the testing data\"\n",
    "\n",
    "Prompt 3: \"I'm getting the following error with the above code can you please give me a suggestion? \"ValueError: Expected 2D array, got 1D array instead:\n",
    "array=[-8. -8. -8. ... -8. -8. -8.].\n",
    "Reshape your data either using array.reshape(-1, 1) if your data has a single feature or array.reshape(1, -1) if it contains a single sample.\"\""
   ]
  },
  {
   "cell_type": "code",
   "execution_count": 73,
   "metadata": {},
   "outputs": [
    {
     "name": "stdout",
     "output_type": "stream",
     "text": [
      "1: -9.612\n",
      "2: -18.005\n",
      "3: -34.308\n"
     ]
    }
   ],
   "source": [
    "import numpy as np\n",
    "from sklearn.mixture import GaussianMixture\n",
    "from scipy.io import wavfile\n",
    "\n",
    "# create a GMM with n components\n",
    "n = 50\n",
    "gmm = GaussianMixture(n_components=n)\n",
    "\n",
    "# train the GMM on the speaker's voice data\n",
    "sample_rate, train_data = wavfile.read('../data/d2l/01_train.wav')\n",
    "train_data = train_data.astype(float)\n",
    "train_data = train_data.reshape(-1, 1)\n",
    "\n",
    "gmm.fit(train_data)\n",
    "\n",
    "# use the trained GMM to recognize the speaker of a new audio sample\n",
    "for i in range(1,4):\n",
    "    sample_rate, test_data = wavfile.read(f'../data/d2l/0{i}_test.wav')\n",
    "    test_data = test_data.astype(float)\n",
    "    test_data = test_data.reshape(-1, 1)\n",
    "    score = gmm.score(test_data)\n",
    "\n",
    "    print(f'{i}: {round(score,3)}')\n"
   ]
  },
  {
   "cell_type": "code",
   "execution_count": 6,
   "metadata": {},
   "outputs": [
    {
     "name": "stdout",
     "output_type": "stream",
     "text": [
      "1: -9.1\n",
      "2: -8.724\n",
      "3: -9.123\n"
     ]
    }
   ],
   "source": [
    "import numpy as np\n",
    "from sklearn.mixture import GaussianMixture\n",
    "from scipy.io import wavfile\n",
    "\n",
    "# create a GMM with n components\n",
    "n = 4\n",
    "gmm = GaussianMixture(n_components=n)\n",
    "\n",
    "# train the GMM on the speaker's voice data\n",
    "sample_rate, train_data = wavfile.read('../data/d2l/02_train.wav')\n",
    "train_data = train_data.astype(float)\n",
    "train_data = train_data.reshape(-1, 1)\n",
    "\n",
    "gmm.fit(train_data)\n",
    "\n",
    "# use the trained GMM to recognize the speaker of a new audio sample\n",
    "for i in range(1,4):\n",
    "    sample_rate, test_data = wavfile.read(f'../data/d2l/0{i}_test.wav')\n",
    "    test_data = test_data.astype(float)\n",
    "    test_data = test_data.reshape(-1, 1)\n",
    "    score = gmm.score(test_data)\n",
    "\n",
    "    print(f'{i}: {round(score,3)}')\n"
   ]
  },
  {
   "cell_type": "code",
   "execution_count": 7,
   "metadata": {},
   "outputs": [
    {
     "name": "stdout",
     "output_type": "stream",
     "text": [
      "1: -9.087\n",
      "2: -8.658\n",
      "3: -8.92\n"
     ]
    }
   ],
   "source": [
    "import numpy as np\n",
    "from sklearn.mixture import GaussianMixture\n",
    "from scipy.io import wavfile\n",
    "\n",
    "# create a GMM with n components\n",
    "n = 4\n",
    "gmm = GaussianMixture(n_components=n)\n",
    "\n",
    "# train the GMM on the speaker's voice data\n",
    "sample_rate, train_data = wavfile.read('../data/d2l/03_train.wav')\n",
    "train_data = train_data.astype(float)\n",
    "train_data = train_data.reshape(-1, 1)\n",
    "\n",
    "gmm.fit(train_data)\n",
    "\n",
    "# use the trained GMM to recognize the speaker of a new audio sample\n",
    "for i in range(1,4):\n",
    "    sample_rate, test_data = wavfile.read(f'../data/d2l/0{i}_test.wav')\n",
    "    test_data = test_data.astype(float)\n",
    "    test_data = test_data.reshape(-1, 1)\n",
    "    score = gmm.score(test_data)\n",
    "\n",
    "    print(f'{i}: {round(score,3)}')\n"
   ]
  }
 ],
 "metadata": {
  "kernelspec": {
   "display_name": "Python 3 (ipykernel)",
   "language": "python",
   "name": "python3"
  },
  "language_info": {
   "codemirror_mode": {
    "name": "ipython",
    "version": 3
   },
   "file_extension": ".py",
   "mimetype": "text/x-python",
   "name": "python",
   "nbconvert_exporter": "python",
   "pygments_lexer": "ipython3",
   "version": "3.9.7"
  },
  "vscode": {
   "interpreter": {
    "hash": "016defd429ab99bf3f0317efb8c8e4a11f71f53a0b4fb21f1d5c683665d855a7"
   }
  }
 },
 "nbformat": 4,
 "nbformat_minor": 2
}
